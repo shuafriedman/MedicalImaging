{
 "cells": [
  {
   "cell_type": "code",
   "execution_count": 2,
   "metadata": {},
   "outputs": [],
   "source": [
    "import os\n",
    "import shutil\n",
    "from huggingface_hub import HfApi, HfFolder, Repository"
   ]
  },
  {
   "cell_type": "code",
   "execution_count": 6,
   "metadata": {},
   "outputs": [],
   "source": [
    "\n",
    "HF_TOKEN = input(\"Enter your Hugging Face token: \")\n",
    "HF_USERNAME = \"Shuaf98\"\n"
   ]
  },
  {
   "cell_type": "code",
   "execution_count": 4,
   "metadata": {},
   "outputs": [],
   "source": [
    "MODEL_DIR = \"/teamspace/studios/this_studio/test_results/models\""
   ]
  },
  {
   "cell_type": "code",
   "execution_count": 14,
   "metadata": {},
   "outputs": [
    {
     "data": {
      "application/vnd.jupyter.widget-view+json": {
       "model_id": "9b907baaf30c4f5bb48ca10822b4d30e",
       "version_major": 2,
       "version_minor": 0
      },
      "text/plain": [
       "best_model_vgg16.pth:   0%|          | 0.00/541M [00:00<?, ?B/s]"
      ]
     },
     "metadata": {},
     "output_type": "display_data"
    },
    {
     "name": "stdout",
     "output_type": "stream",
     "text": [
      "Uploaded best_model_vgg16.pth to Hugging Face as best_model_vgg16\n",
      "Model upload complete!\n"
     ]
    }
   ],
   "source": [
    "import os\n",
    "from huggingface_hub import HfApi\n",
    "\n",
    "# Loop through the folder and upload each model\n",
    "api = HfApi()\n",
    "\n",
    "for model_file in os.listdir(MODEL_DIR):\n",
    "    if model_file.endswith(\".pth\") and model_file == 'best_model_vgg16.pth':\n",
    "        model_name = model_file.replace(\".pth\", \"\")\n",
    "        model_path = os.path.join(MODEL_DIR, model_file)\n",
    "\n",
    "        # Create the repository if it doesn't exist\n",
    "        repo_id = f\"{HF_USERNAME}/{model_name}\"\n",
    "        api.create_repo(repo_id=repo_id, token=HF_TOKEN, exist_ok=True)\n",
    "\n",
    "        # Upload the .pth file to the repo using HTTP-based method\n",
    "        try:\n",
    "            api.upload_file(\n",
    "                path_or_fileobj=model_path,\n",
    "                path_in_repo=\"model.pth\",  # Save it as 'model.pth' in the repo\n",
    "                repo_id=repo_id,\n",
    "                token=HF_TOKEN\n",
    "            )\n",
    "            print(f\"Uploaded {model_file} to Hugging Face as {model_name}\")\n",
    "        except Exception as e:\n",
    "            print(f\"Failed to upload {model_file}: {e}\")\n",
    "\n",
    "print(\"Model upload complete!\")\n"
   ]
  },
  {
   "cell_type": "code",
   "execution_count": null,
   "metadata": {},
   "outputs": [],
   "source": []
  },
  {
   "cell_type": "code",
   "execution_count": null,
   "metadata": {},
   "outputs": [],
   "source": []
  }
 ],
 "metadata": {
  "language_info": {
   "name": "python"
  }
 },
 "nbformat": 4,
 "nbformat_minor": 2
}
